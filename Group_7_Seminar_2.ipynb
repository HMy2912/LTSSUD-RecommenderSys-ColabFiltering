{
  "nbformat": 4,
  "nbformat_minor": 0,
  "metadata": {
    "colab": {
      "provenance": [],
      "authorship_tag": "ABX9TyNSNr9EtKCUsAhe8+oTWbV2",
      "include_colab_link": true
    },
    "kernelspec": {
      "name": "python3",
      "display_name": "Python 3"
    },
    "language_info": {
      "name": "python"
    }
  },
  "cells": [
    {
      "cell_type": "markdown",
      "metadata": {
        "id": "view-in-github",
        "colab_type": "text"
      },
      "source": [
        "<a href=\"https://colab.research.google.com/github/HMy2912/LTSSUD-RecommenderSys-ColabFiltering/blob/main/Group_7_Seminar_2.ipynb\" target=\"_parent\"><img src=\"https://colab.research.google.com/assets/colab-badge.svg\" alt=\"Open In Colab\"/></a>"
      ]
    },
    {
      "cell_type": "code",
      "source": [
        "from google.colab import drive\n",
        "drive.mount('/content/drive')"
      ],
      "metadata": {
        "colab": {
          "base_uri": "https://localhost:8080/"
        },
        "id": "XdZ3tfIVv0sF",
        "outputId": "ecfadc9e-8e96-4695-b385-ceb31159d2fa"
      },
      "execution_count": 1,
      "outputs": [
        {
          "output_type": "stream",
          "name": "stdout",
          "text": [
            "Mounted at /content/drive\n"
          ]
        }
      ]
    },
    {
      "cell_type": "markdown",
      "source": [
        "# Parallel Collaborative Filtering Recommender System\n",
        "**Author**: Đằng Hoàn Mỹ (19127216)  \n",
        "**Course**: CSC14116 - Applied Parallel Programming  \n",
        "**Framework**: Python 3.10, NumPy, pandas, scikit-learn, SciPy for V1; Numba for V2; CUDA for V3/V4.  \n",
        "This notebook implements V1 (sequential Python) for user-user NBCF on MovieLens 100K, targeting MAE < 1.5, Precision@10 ~4%, and a baseline for 100× speedup."
      ],
      "metadata": {
        "id": "GNrru0Ifv3pT"
      }
    },
    {
      "cell_type": "markdown",
      "source": [
        "# Library Installation"
      ],
      "metadata": {
        "id": "_LVKE2y9wEkZ"
      }
    },
    {
      "cell_type": "code",
      "source": [
        "import pandas as pd\n",
        "import numpy as np\n",
        "from sklearn.metrics.pairwise import cosine_similarity\n",
        "import scipy.sparse as sp\n",
        "import time\n",
        "print(\"Libraries installed successfully!\")"
      ],
      "metadata": {
        "colab": {
          "base_uri": "https://localhost:8080/"
        },
        "id": "WYdRkJ_-v1e6",
        "outputId": "a0cacfd8-d480-461f-a874-e6af0d901214"
      },
      "execution_count": 2,
      "outputs": [
        {
          "output_type": "stream",
          "name": "stdout",
          "text": [
            "Libraries installed successfully!\n"
          ]
        }
      ]
    },
    {
      "cell_type": "markdown",
      "source": [
        "# Dataset Setup"
      ],
      "metadata": {
        "id": "ZHcwmEQOwvdU"
      }
    },
    {
      "cell_type": "markdown",
      "source": [
        "## MoviesLen 100K"
      ],
      "metadata": {
        "id": "b-y09T2Pwxx0"
      }
    },
    {
      "cell_type": "code",
      "source": [
        "data_url = 'https://files.grouplens.org/datasets/movielens/ml-100k/u.data'\n",
        "item_url = 'https://files.grouplens.org/datasets/movielens/ml-100k/u.item'\n",
        "ratings = pd.read_csv(data_url, sep='\\t', names=['user_id', 'item_id', 'rating', 'timestamp'])\n",
        "movies = pd.read_csv(item_url, sep='|', encoding='latin-1', usecols=[0, 1], names=['item_id', 'title'])\n",
        "print(\"MovieLens 100K loaded: ratings shape =\", ratings.shape, \", movies shape =\", movies.shape)"
      ],
      "metadata": {
        "colab": {
          "base_uri": "https://localhost:8080/"
        },
        "id": "HIg0pq1kwMng",
        "outputId": "a8c271c0-b76a-410e-c47d-199310b0cb78"
      },
      "execution_count": 3,
      "outputs": [
        {
          "output_type": "stream",
          "name": "stdout",
          "text": [
            "MovieLens 100K loaded: ratings shape = (100000, 4) , movies shape = (1682, 2)\n"
          ]
        }
      ]
    },
    {
      "cell_type": "code",
      "source": [
        "ratings.to_csv('/content/drive/MyDrive/2025/HK3/LTSSUD/Data/ml-100k_ratings.csv', index=False)\n",
        "movies.to_csv('/content/drive/MyDrive/2025/HK3/LTSSUD/Data/ml-100k_movies.csv', index=False)"
      ],
      "metadata": {
        "id": "-6F02jc3w3nL"
      },
      "execution_count": 4,
      "outputs": []
    },
    {
      "cell_type": "code",
      "source": [],
      "metadata": {
        "id": "IT34gMd5xJ-u"
      },
      "execution_count": null,
      "outputs": []
    }
  ]
}