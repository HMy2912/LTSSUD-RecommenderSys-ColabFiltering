{
  "nbformat": 4,
  "nbformat_minor": 0,
  "metadata": {
    "colab": {
      "provenance": [],
      "gpuType": "T4",
      "authorship_tag": "ABX9TyMMEvXk+xWtAQC32bIA6L0l",
      "include_colab_link": true
    },
    "kernelspec": {
      "name": "python3",
      "display_name": "Python 3"
    },
    "language_info": {
      "name": "python"
    }
  },
  "cells": [
    {
      "cell_type": "markdown",
      "metadata": {
        "id": "view-in-github",
        "colab_type": "text"
      },
      "source": [
        "<a href=\"https://colab.research.google.com/github/HMy2912/LTSSUD-RecommenderSys-ColabFiltering/blob/main/Group_7_Seminar_1.ipynb\" target=\"_parent\"><img src=\"https://colab.research.google.com/assets/colab-badge.svg\" alt=\"Open In Colab\"/></a>"
      ]
    },
    {
      "cell_type": "markdown",
      "source": [
        "# CSC14116 - Group 7 - Parallel Collaborative Filtering Recommender System\n",
        "**Week 1 (6/9/2025 – 6/14/2025)**  \n",
        "**Member**: Đăng Hoàn Mỹ - 191272216  \n",
        "**Project**: User-user Neighborhood-based Collaborative Filtering (NBCF) Recommender System using MovieLens 100K dataset.  \n",
        "**Objective**: Build a movie recommender system with sequential (V1), Numba (V2), CUDA (V3), and CUDA with shared memory (V4) implementations, targeting 10× speedup and MAE < 1.2.\n",
        "**References**\n",
        "* MovieLens Datasets: https://grouplens.org/datasets/movielens/\n",
        "* Viblo Tutorial: Basics of Collaborative Filtering.\n",
        "* Machine Learning Cơ Bản: NBCF with MovieLens examples.\n",
        "* Lei Mao’s Blog: Cosine Similarity vs. Pearson Correlation."
      ],
      "metadata": {
        "id": "vQIzcLea61k8"
      }
    },
    {
      "cell_type": "markdown",
      "source": [
        "## 1. Environment Setup\n",
        "Set up Google Colab with necessary libraries (`pandas`, `numpy`, `scipy`, `scikit-learn`, `numba`) and mount Google Drive for data storage. This ensures reproducibility and GPU access for future CUDA implementations (V3, V4)."
      ],
      "metadata": {
        "id": "Nepgc0xn67aI"
      }
    },
    {
      "cell_type": "code",
      "execution_count": 1,
      "metadata": {
        "colab": {
          "base_uri": "https://localhost:8080/"
        },
        "id": "_Kyyg75E6wFr",
        "outputId": "bdebb1a3-ce24-4557-a3d3-98b042951cb9"
      },
      "outputs": [
        {
          "output_type": "stream",
          "name": "stdout",
          "text": [
            "Mounted at /content/drive\n"
          ]
        }
      ],
      "source": [
        "import pandas as pd\n",
        "import numpy as np\n",
        "import scipy.sparse as sp\n",
        "from sklearn.metrics.pairwise import cosine_similarity\n",
        "from numba import jit, prange, cuda\n",
        "import time\n",
        "from google.colab import drive\n",
        "drive.mount('/content/drive')"
      ]
    },
    {
      "cell_type": "code",
      "metadata": {
        "colab": {
          "base_uri": "https://localhost:8080/"
        },
        "id": "aSy99KE3i7BmT",
        "outputId": "215c014e-d72b-47f2-a6bc-c344c8603073"
      },
      "source": [
        "# Verify environment\n",
        "import numba\n",
        "print(\"Numba version:\", numba.__version__)  # Check compatibility (e.g., 0.61.2)\n",
        "!nvcc --version  # Expect CUDA ~11.x\n",
        "!nvidia-smi  # Confirm T4 GPU"
      ],
      "execution_count": 2,
      "outputs": [
        {
          "output_type": "stream",
          "name": "stdout",
          "text": [
            "Numba version: 0.60.0\n",
            "nvcc: NVIDIA (R) Cuda compiler driver\n",
            "Copyright (c) 2005-2024 NVIDIA Corporation\n",
            "Built on Thu_Jun__6_02:18:23_PDT_2024\n",
            "Cuda compilation tools, release 12.5, V12.5.82\n",
            "Build cuda_12.5.r12.5/compiler.34385749_0\n",
            "/bin/bash: line 1: nvidia-smi: command not found\n"
          ]
        }
      ]
    },
    {
      "cell_type": "code",
      "source": [],
      "metadata": {
        "id": "yw_MzczC7dpK"
      },
      "execution_count": 2,
      "outputs": []
    },
    {
      "cell_type": "markdown",
      "source": [
        "## 2. Understanding the NBCF Algorithm"
      ],
      "metadata": {
        "id": "3v2CP63D70d_"
      }
    },
    {
      "cell_type": "markdown",
      "source": [
        "### Overview\n",
        "\n",
        "User-user Neighborhood-based Collaborative Filtering (NBCF) predicts a user’s movie ratings based on ratings from similar users. It’s suitable for MovieLens 100K (943 users, 1682 movies) due to fewer users than items, reducing similarity computation cost compared to `item-item` NBCF."
      ],
      "metadata": {
        "id": "EVEHdBrt9TN0"
      }
    },
    {
      "cell_type": "markdown",
      "source": [
        "### Steps\n",
        "1. **Load Dataset**: Create user-item matrix `R` (943×1682) from MovieLens 100K.\n",
        "2. **Normalization**: Mean-center ratings to remove user bias, producing `R_norm`.\n",
        "3. **Similarity Computation**: Compute user-user cosine similarities (V1: sequential, V2: Numba, V3: CUDA, V4: CUDA with shared memory).\n",
        "4. **K-Nearest Neighbors (K-NN)**: Select 20 most similar users per user.\n",
        "5. **Recommendation**: Predict ratings for unrated movies, recommend top-10.\n",
        "6. **Evaluation**: Compute MAE (<1.2) and Precision@10 (~4%) on `u1.test`."
      ],
      "metadata": {
        "id": "WIy2Y1cp8p7O"
      }
    },
    {
      "cell_type": "markdown",
      "source": [
        "### Cosine Similarity\n",
        "\n",
        "For users `u` and `v`, cosine similarity is:\n",
        "\n",
        "$$ \\text{sim}(u,v) = \\frac{R_{\\text{norm},u} \\cdot R_{\\text{norm},v}}{|R_{\\text{norm},u}| |R_{\\text{norm},v}|} $$\n",
        "\n",
        "where $R_{\\text{norm},u}$ is the mean-centered rating vector. This measures rating pattern similarity, ignoring magnitude."
      ],
      "metadata": {
        "id": "LC4NgSJy8q2b"
      }
    },
    {
      "cell_type": "code",
      "source": [],
      "metadata": {
        "id": "Ls1QqsCL75Ih"
      },
      "execution_count": 2,
      "outputs": []
    },
    {
      "cell_type": "markdown",
      "source": [
        "## 3. Dataset Description"
      ],
      "metadata": {
        "id": "TSSmRCE69owM"
      }
    },
    {
      "cell_type": "markdown",
      "source": [
        "### MovieLens 100K\n",
        "* Source: https://grouplens.org/datasets/movielens/100k/\n",
        "* Files:\n",
        "    * `u.data`: 100,000 ratings (tab-separated, columns: `user_id`, `item_id`, `rating`, `timestamp`).\n",
        "    * `u.item`: 1682 movies (pipe-separated, columns: `item_id`, `title`, ...; use first two).\n",
        "    * `u1.test`: ~20,000 test ratings (same format as `u.data`).\n",
        "* Stats:\n",
        "    * Users: 943\n",
        "    * Movies: 1682\n",
        "    * Ratings: ~100,000 (1–5 scale)\n",
        "    * Sparsity: `~6.3%` non-zero entries\n",
        "      * $\\sqrt{\\frac{a}{b}}$\n",
        "      * $x^2$\n",
        "    *  ( $\\frac{100,000}{943 \\times 1682} \\approx 0.063$).\n",
        "* Relevance: Ideal for user-user NBCF due to fewer users than movies, reducing similarity matrix size (943×943 vs. 1682×1682)."
      ],
      "metadata": {
        "id": "h5c_m-d-9lz5"
      }
    },
    {
      "cell_type": "markdown",
      "source": [
        "This is a test: $x^2$ and \\(y^3\\)\n",
        "."
      ],
      "metadata": {
        "id": "cE3T6Olu_jGB"
      }
    },
    {
      "cell_type": "markdown",
      "source": [
        "### Why Sparse Matrix?\n",
        "\n",
        "The user-item matrix R (943×1682) has \\~6.3% non-zero entries, making dense storage (\\~12MB) inefficient. A sparse CSR (Compressed Sparse Row) matrix reduces memory usage to \\~1.2MB, critical for CUDA (V3, V4) on Colab’s T4 GPU (\\~12.7GB VRAM)."
      ],
      "metadata": {
        "id": "lZRfvkoo-WoB"
      }
    },
    {
      "cell_type": "code",
      "source": [],
      "metadata": {
        "id": "puIn24We-WHZ"
      },
      "execution_count": 2,
      "outputs": []
    },
    {
      "cell_type": "markdown",
      "source": [
        "# Step 1: Load Data and Create User-Item Matrix\n",
        "Load MovieLens 100K (`u.data`, `u.item`) into pandas DataFrames, create sparse CSR matrix `R` (943×1682), and save to Google Drive for reuse."
      ],
      "metadata": {
        "id": "F6ITLE8EEbzS"
      }
    },
    {
      "cell_type": "code",
      "source": [
        "# Load data\n",
        "data_url = 'https://files.grouplens.org/datasets/movielens/ml-100k/u.data'\n",
        "item_url = 'https://files.grouplens.org/datasets/movielens/ml-100k/u.item'\n",
        "ratings = pd.read_csv(data_url, sep='\\t', names=['user_id', 'item_id', 'rating', 'timestamp'])\n",
        "movies = pd.read_csv(item_url, sep='|', encoding='latin-1', usecols=[0, 1], names=['item_id', 'title'])\n",
        "print(\"Ratings shape:\", ratings.shape)  # (100000, 4)\n",
        "print(\"Movies shape:\", movies.shape)  # (1682, 2)"
      ],
      "metadata": {
        "colab": {
          "base_uri": "https://localhost:8080/"
        },
        "id": "nla9JpFTEeVc",
        "outputId": "7f855450-a48e-43e0-c12b-af94da7ff495"
      },
      "execution_count": 3,
      "outputs": [
        {
          "output_type": "stream",
          "name": "stdout",
          "text": [
            "Ratings shape: (100000, 4)\n",
            "Movies shape: (1682, 2)\n"
          ]
        }
      ]
    },
    {
      "cell_type": "code",
      "source": [
        "# Save to Drive\n",
        "ratings.to_csv('/content/drive/MyDrive/2025/HK3/LTSSUD/Data/ml-100k_ratings.csv', index=False)\n",
        "movies.to_csv('/content/drive/MyDrive/2025/HK3/LTSSUD/Data/ml-100k_movies.csv', index=False)"
      ],
      "metadata": {
        "id": "sp7y49xeErRW"
      },
      "execution_count": 4,
      "outputs": []
    },
    {
      "cell_type": "code",
      "source": [
        "# Create user-item matrix\n",
        "n_users, n_items = 943, 1682\n",
        "R = sp.csr_matrix((ratings['rating'], (ratings['user_id'] - 1, ratings['item_id'] - 1)), shape=(n_users, n_items))\n",
        "print(\"User-item matrix shape:\", R.shape, \"Non-zero entries:\", R.nnz)  # (943, 1682), ~100000\n",
        "print(\"Sparsity:\", R.nnz / (n_users * n_items))  # ~0.063\n",
        "np.save('/content/drive/MyDrive/2025/HK3/LTSSUD/Data/R_sparse.npy', R)"
      ],
      "metadata": {
        "colab": {
          "base_uri": "https://localhost:8080/"
        },
        "id": "f6M8FpNBEtzO",
        "outputId": "46568981-1c16-4f1f-b055-f5a34b01c868"
      },
      "execution_count": 5,
      "outputs": [
        {
          "output_type": "stream",
          "name": "stdout",
          "text": [
            "User-item matrix shape: (943, 1682) Non-zero entries: 100000\n",
            "Sparsity: 0.06304669364224531\n"
          ]
        }
      ]
    },
    {
      "cell_type": "code",
      "source": [
        "# Load test data (for later use)\n",
        "test_url = 'https://files.grouplens.org/datasets/movielens/ml-100k/u1.test'\n",
        "test_ratings = pd.read_csv(test_url, sep='\\t', names=['user_id', 'item_id', 'rating', 'timestamp'])\n",
        "test_ratings.to_csv('/content/drive/MyDrive/2025/HK3/LTSSUD/Data/ml-100k_test.csv', index=False)\n",
        "print(\"Test ratings shape:\", test_ratings.shape)  # (~20000, 4)"
      ],
      "metadata": {
        "colab": {
          "base_uri": "https://localhost:8080/"
        },
        "id": "dirF-dk2Ex9e",
        "outputId": "03b1af04-8fba-4517-90f3-56253baf80db"
      },
      "execution_count": 6,
      "outputs": [
        {
          "output_type": "stream",
          "name": "stdout",
          "text": [
            "Test ratings shape: (20000, 4)\n"
          ]
        }
      ]
    },
    {
      "cell_type": "code",
      "source": [
        "print(\"Sample ratings (user 1):\", R[0].toarray()[0, :5])  # First 5 items"
      ],
      "metadata": {
        "colab": {
          "base_uri": "https://localhost:8080/"
        },
        "id": "kKbYCiGxE0Y6",
        "outputId": "a1790c46-c43f-420a-e2b5-7348331de767"
      },
      "execution_count": 7,
      "outputs": [
        {
          "output_type": "stream",
          "name": "stdout",
          "text": [
            "Sample ratings (user 1): [5 3 4 3 3]\n"
          ]
        }
      ]
    }
  ]
}