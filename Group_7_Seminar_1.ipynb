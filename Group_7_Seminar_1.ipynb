{
  "nbformat": 4,
  "nbformat_minor": 0,
  "metadata": {
    "colab": {
      "provenance": [],
      "gpuType": "T4",
      "toc_visible": true,
      "include_colab_link": true
    },
    "kernelspec": {
      "name": "python3",
      "display_name": "Python 3"
    },
    "language_info": {
      "name": "python"
    },
    "accelerator": "GPU"
  },
  "cells": [
    {
      "cell_type": "markdown",
      "metadata": {
        "id": "view-in-github",
        "colab_type": "text"
      },
      "source": [
        "<a href=\"https://colab.research.google.com/github/HMy2912/LTSSUD-RecommenderSys-ColabFiltering/blob/main/Group_7_Seminar_1.ipynb\" target=\"_parent\"><img src=\"https://colab.research.google.com/assets/colab-badge.svg\" alt=\"Open In Colab\"/></a>"
      ]
    },
    {
      "cell_type": "markdown",
      "source": [
        "# CSC14116 - Group 7 - Parallel Collaborative Filtering Recommender System\n",
        "**Week 1 (6/9/2025 – 6/14/2025)**  \n",
        "**Member**: Đăng Hoàn Mỹ - 19127216  \n",
        "**Project**: User-user Neighborhood-based Collaborative Filtering (NBCF) Recommender System using MovieLens 100K dataset.  \n",
        "**Objective**: Build a movie recommender system with sequential (V1), Numba (V2), CUDA (V3), and CUDA with shared memory (V4) implementations, targeting 10× speedup and MAE < 1.2.\n",
        "**References**\n",
        "* MovieLens Datasets: https://grouplens.org/datasets/movielens/\n",
        "* Viblo Tutorial: Basics of Collaborative Filtering.\n",
        "* Machine Learning Cơ Bản: NBCF with MovieLens examples.\n",
        "* Lei Mao’s Blog: Cosine Similarity vs. Pearson Correlation."
      ],
      "metadata": {
        "id": "vQIzcLea61k8"
      }
    },
    {
      "cell_type": "markdown",
      "source": [
        "## 1. Environment Setup\n",
        "Set up Google Colab with necessary libraries (`pandas`, `numpy`, `scipy`, `scikit-learn`, `numba`) and mount Google Drive for data storage. This ensures reproducibility and GPU access for future CUDA implementations (V3, V4)."
      ],
      "metadata": {
        "id": "Nepgc0xn67aI"
      }
    },
    {
      "cell_type": "code",
      "execution_count": 1,
      "metadata": {
        "colab": {
          "base_uri": "https://localhost:8080/"
        },
        "id": "_Kyyg75E6wFr",
        "outputId": "04a81bde-3d79-4793-d05a-172d072d8b89"
      },
      "outputs": [
        {
          "output_type": "stream",
          "name": "stdout",
          "text": [
            "Mounted at /content/drive\n"
          ]
        }
      ],
      "source": [
        "import pandas as pd\n",
        "import numpy as np\n",
        "import scipy.sparse as sp\n",
        "from sklearn.metrics.pairwise import cosine_similarity\n",
        "from sklearn.model_selection import train_test_split\n",
        "from numba import jit, prange, cuda\n",
        "import time\n",
        "from google.colab import drive\n",
        "drive.mount('/content/drive')"
      ]
    },
    {
      "cell_type": "code",
      "metadata": {
        "colab": {
          "base_uri": "https://localhost:8080/"
        },
        "id": "aSy99KE3i7BmT",
        "outputId": "152a2bfd-1356-45d4-f1d7-5073e93fca48"
      },
      "source": [
        "# Verify environment\n",
        "import numba\n",
        "print(\"Numba version:\", numba.__version__)  # Check compatibility (e.g., 0.61.2)\n",
        "!nvcc --version  # Expect CUDA ~11.x\n",
        "!nvidia-smi  # Confirm T4 GPU"
      ],
      "execution_count": 2,
      "outputs": [
        {
          "output_type": "stream",
          "name": "stdout",
          "text": [
            "Numba version: 0.60.0\n",
            "nvcc: NVIDIA (R) Cuda compiler driver\n",
            "Copyright (c) 2005-2024 NVIDIA Corporation\n",
            "Built on Thu_Jun__6_02:18:23_PDT_2024\n",
            "Cuda compilation tools, release 12.5, V12.5.82\n",
            "Build cuda_12.5.r12.5/compiler.34385749_0\n",
            "Sun Jul  6 14:35:59 2025       \n",
            "+-----------------------------------------------------------------------------------------+\n",
            "| NVIDIA-SMI 550.54.15              Driver Version: 550.54.15      CUDA Version: 12.4     |\n",
            "|-----------------------------------------+------------------------+----------------------+\n",
            "| GPU  Name                 Persistence-M | Bus-Id          Disp.A | Volatile Uncorr. ECC |\n",
            "| Fan  Temp   Perf          Pwr:Usage/Cap |           Memory-Usage | GPU-Util  Compute M. |\n",
            "|                                         |                        |               MIG M. |\n",
            "|=========================================+========================+======================|\n",
            "|   0  Tesla T4                       Off |   00000000:00:04.0 Off |                    0 |\n",
            "| N/A   45C    P8             10W /   70W |       0MiB /  15360MiB |      0%      Default |\n",
            "|                                         |                        |                  N/A |\n",
            "+-----------------------------------------+------------------------+----------------------+\n",
            "                                                                                         \n",
            "+-----------------------------------------------------------------------------------------+\n",
            "| Processes:                                                                              |\n",
            "|  GPU   GI   CI        PID   Type   Process name                              GPU Memory |\n",
            "|        ID   ID                                                               Usage      |\n",
            "|=========================================================================================|\n",
            "|  No running processes found                                                             |\n",
            "+-----------------------------------------------------------------------------------------+\n"
          ]
        }
      ]
    },
    {
      "cell_type": "code",
      "source": [
        "!pip install cupy-cuda12x"
      ],
      "metadata": {
        "colab": {
          "base_uri": "https://localhost:8080/"
        },
        "id": "5GLGjly0oa6O",
        "outputId": "3d5f9a42-73d3-47f1-da2b-011657f246aa"
      },
      "execution_count": 3,
      "outputs": [
        {
          "output_type": "stream",
          "name": "stdout",
          "text": [
            "Requirement already satisfied: cupy-cuda12x in /usr/local/lib/python3.11/dist-packages (13.3.0)\n",
            "Requirement already satisfied: numpy<2.3,>=1.22 in /usr/local/lib/python3.11/dist-packages (from cupy-cuda12x) (2.0.2)\n",
            "Requirement already satisfied: fastrlock>=0.5 in /usr/local/lib/python3.11/dist-packages (from cupy-cuda12x) (0.8.3)\n"
          ]
        }
      ]
    },
    {
      "cell_type": "code",
      "source": [
        "import cupy as cp\n",
        "print(\"CuPy version:\", cp.__version__)\n",
        "# Test GPU array\n",
        "a = cp.array([1, 2, 3])\n",
        "print(\"CuPy array:\", a)"
      ],
      "metadata": {
        "id": "yw_MzczC7dpK",
        "colab": {
          "base_uri": "https://localhost:8080/"
        },
        "outputId": "ba81b5c0-217e-45da-a2cf-37007814dbd4"
      },
      "execution_count": 4,
      "outputs": [
        {
          "output_type": "stream",
          "name": "stdout",
          "text": [
            "CuPy version: 13.3.0\n",
            "CuPy array: [1 2 3]\n"
          ]
        }
      ]
    },
    {
      "cell_type": "code",
      "source": [
        "import numba.cuda as cuda\n",
        "print(\"GPU available:\", cuda.is_available())  # Should return True\n",
        "if cuda.is_available():\n",
        "    print(\"Detected GPUs:\", cuda.detect())"
      ],
      "metadata": {
        "id": "4XW6D0ISJry1",
        "colab": {
          "base_uri": "https://localhost:8080/"
        },
        "outputId": "edb049b1-8fb5-4536-f399-3116b5477bde"
      },
      "execution_count": 5,
      "outputs": [
        {
          "output_type": "stream",
          "name": "stdout",
          "text": [
            "GPU available: True\n",
            "Found 1 CUDA devices\n",
            "id 0             b'Tesla T4'                              [SUPPORTED]\n",
            "                      Compute Capability: 7.5\n",
            "                           PCI Device ID: 4\n",
            "                              PCI Bus ID: 0\n",
            "                                    UUID: GPU-5a4e027d-4fd1-c479-700f-c6ef71a4af5d\n",
            "                                Watchdog: Disabled\n",
            "             FP32/FP64 Performance Ratio: 32\n",
            "Summary:\n",
            "\t1/1 devices are supported\n",
            "Detected GPUs: True\n"
          ]
        }
      ]
    },
    {
      "cell_type": "markdown",
      "source": [
        "## 2. Understanding the NBCF Algorithm"
      ],
      "metadata": {
        "id": "3v2CP63D70d_"
      }
    },
    {
      "cell_type": "markdown",
      "source": [
        "### Overview\n",
        "\n",
        "User-user Neighborhood-based Collaborative Filtering (NBCF) predicts a user’s movie ratings based on ratings from similar users. It’s suitable for MovieLens 100K (943 users, 1682 movies) due to fewer users than items, reducing similarity computation cost compared to `item-item` NBCF."
      ],
      "metadata": {
        "id": "EVEHdBrt9TN0"
      }
    },
    {
      "cell_type": "markdown",
      "source": [
        "### Steps\n",
        "1. **Load Dataset**: Create user-item matrix `R` (943×1682) from MovieLens 100K.\n",
        "2. **Normalization**: Mean-center ratings to remove user bias, producing `R_norm`.\n",
        "3. **Similarity Computation**: Compute user-user cosine similarities (V1: sequential, V2: Numba, V3: CUDA, V4: CUDA with shared memory).\n",
        "4. **K-Nearest Neighbors (K-NN)**: Select 20 most similar users per user.\n",
        "5. **Recommendation**: Predict ratings for unrated movies, recommend top-10.\n",
        "6. **Evaluation**: Compute MAE (<1.2) and Precision@10 (~4%) on `u1.test`."
      ],
      "metadata": {
        "id": "WIy2Y1cp8p7O"
      }
    },
    {
      "cell_type": "markdown",
      "source": [
        "### Cosine Similarity\n",
        "\n",
        "For users `u` and `v`, cosine similarity is:\n",
        "\n",
        "$$ \\text{sim}(u,v) = \\frac{R_{\\text{norm},u} \\cdot R_{\\text{norm},v}}{|R_{\\text{norm},u}| |R_{\\text{norm},v}|} $$\n",
        "\n",
        "where $R_{\\text{norm},u}$ is the mean-centered rating vector. This measures rating pattern similarity, ignoring magnitude."
      ],
      "metadata": {
        "id": "LC4NgSJy8q2b"
      }
    },
    {
      "cell_type": "code",
      "source": [],
      "metadata": {
        "id": "Ls1QqsCL75Ih"
      },
      "execution_count": 5,
      "outputs": []
    },
    {
      "cell_type": "markdown",
      "source": [
        "## 3. Dataset Description"
      ],
      "metadata": {
        "id": "TSSmRCE69owM"
      }
    },
    {
      "cell_type": "markdown",
      "source": [
        "### MovieLens 100K\n",
        "* Source: https://grouplens.org/datasets/movielens/100k/\n",
        "* Files:\n",
        "    * `u.data`: 100,000 ratings (tab-separated, columns: `user_id`, `item_id`, `rating`, `timestamp`).\n",
        "    * `u.item`: 1682 movies (pipe-separated, columns: `item_id`, `title`, ...; use first two).\n",
        "    * `u1.test`: ~20,000 test ratings (same format as `u.data`).\n",
        "* Stats:\n",
        "    * Users: 943\n",
        "    * Movies: 1682\n",
        "    * Ratings: ~100,000 (1–5 scale)\n",
        "    * Sparsity: ~6.3% non-zero entries  ($\\frac{100,000}{943 \\times 1682 \\approx 0.063$).\n",
        "* Relevance: Ideal for user-user NBCF due to fewer users than movies, reducing similarity matrix size (943×943 vs. 1682×1682)."
      ],
      "metadata": {
        "id": "h5c_m-d-9lz5"
      }
    },
    {
      "cell_type": "markdown",
      "source": [
        "### Why Sparse Matrix?\n",
        "\n",
        "The user-item matrix R (943×1682) has \\~6.3% non-zero entries, making dense storage (\\~12MB) inefficient.\n",
        "\n",
        "A sparse CSR (Compressed Sparse Row) matrix reduces memory usage to \\~1.2MB, critical for CUDA (V3, V4) on Colab’s T4 GPU (\\~12.7GB VRAM)."
      ],
      "metadata": {
        "id": "lZRfvkoo-WoB"
      }
    },
    {
      "cell_type": "code",
      "source": [],
      "metadata": {
        "id": "puIn24We-WHZ"
      },
      "execution_count": 5,
      "outputs": []
    },
    {
      "cell_type": "markdown",
      "source": [
        "# Step 1: Load Data and Create User-Item Matrix\n",
        "Load MovieLens 100K (`u.data`, `u.item`) into pandas DataFrames, create sparse CSR matrix `R` (943×1682), and save to Google Drive for reuse."
      ],
      "metadata": {
        "id": "F6ITLE8EEbzS"
      }
    },
    {
      "cell_type": "code",
      "source": [
        "# Load data\n",
        "data_url = 'https://files.grouplens.org/datasets/movielens/ml-100k/u.data'\n",
        "item_url = 'https://files.grouplens.org/datasets/movielens/ml-100k/u.item'\n",
        "ratings = pd.read_csv(data_url, sep='\\t', names=['user_id', 'item_id', 'rating', 'timestamp'])\n",
        "movies = pd.read_csv(item_url, sep='|', encoding='latin-1', usecols=[0, 1], names=['item_id', 'title'])\n",
        "print(\"Ratings shape:\", ratings.shape)  # (100000, 4)\n",
        "print(\"Movies shape:\", movies.shape)  # (1682, 2)"
      ],
      "metadata": {
        "colab": {
          "base_uri": "https://localhost:8080/"
        },
        "id": "nla9JpFTEeVc",
        "outputId": "8e5fa228-ce7e-4f38-cffb-00480d06b083"
      },
      "execution_count": 6,
      "outputs": [
        {
          "output_type": "stream",
          "name": "stdout",
          "text": [
            "Ratings shape: (100000, 4)\n",
            "Movies shape: (1682, 2)\n"
          ]
        }
      ]
    },
    {
      "cell_type": "code",
      "source": [
        "# Save to Drive\n",
        "ratings.to_csv('/content/drive/MyDrive/2025/HK3/LTSSUD/Data/ml-100k_ratings.csv', index=False)\n",
        "movies.to_csv('/content/drive/MyDrive/2025/HK3/LTSSUD/Data/ml-100k_movies.csv', index=False)"
      ],
      "metadata": {
        "id": "sp7y49xeErRW"
      },
      "execution_count": 7,
      "outputs": []
    },
    {
      "cell_type": "code",
      "source": [
        "# Create user-item matrix\n",
        "n_users, n_items = 943, 1682\n",
        "R = sp.csr_matrix((ratings['rating'], (ratings['user_id'] - 1, ratings['item_id'] - 1)), shape=(n_users, n_items))\n",
        "print(\"User-item matrix shape:\", R.shape, \"Non-zero entries:\", R.nnz)  # (943, 1682), ~100000\n",
        "print(\"Sparsity:\", R.nnz / (n_users * n_items))  # ~0.063\n",
        "np.save('/content/drive/MyDrive/2025/HK3/LTSSUD/Data/R_sparse.npy', R)"
      ],
      "metadata": {
        "colab": {
          "base_uri": "https://localhost:8080/"
        },
        "id": "f6M8FpNBEtzO",
        "outputId": "53a23ad5-b177-4b61-8989-36ad8b313961"
      },
      "execution_count": 8,
      "outputs": [
        {
          "output_type": "stream",
          "name": "stdout",
          "text": [
            "User-item matrix shape: (943, 1682) Non-zero entries: 100000\n",
            "Sparsity: 0.06304669364224531\n"
          ]
        }
      ]
    },
    {
      "cell_type": "code",
      "source": [
        "# Load test data (for later use)\n",
        "test_url = 'https://files.grouplens.org/datasets/movielens/ml-100k/u1.test'\n",
        "test_ratings = pd.read_csv(test_url, sep='\\t', names=['user_id', 'item_id', 'rating', 'timestamp'])\n",
        "test_ratings.to_csv('/content/drive/MyDrive/2025/HK3/LTSSUD/Data/ml-100k_test.csv', index=False)\n",
        "print(\"Test ratings shape:\", test_ratings.shape)  # (~20000, 4)"
      ],
      "metadata": {
        "colab": {
          "base_uri": "https://localhost:8080/"
        },
        "id": "dirF-dk2Ex9e",
        "outputId": "1a553acc-9fad-40da-c95e-0492c4a2a38a"
      },
      "execution_count": 9,
      "outputs": [
        {
          "output_type": "stream",
          "name": "stdout",
          "text": [
            "Test ratings shape: (20000, 4)\n"
          ]
        }
      ]
    },
    {
      "cell_type": "code",
      "source": [
        "print(\"Sample ratings (user 1):\", R[0].toarray()[0, :5])  # First 5 items"
      ],
      "metadata": {
        "colab": {
          "base_uri": "https://localhost:8080/"
        },
        "id": "kKbYCiGxE0Y6",
        "outputId": "99a6d534-683d-4620-88a7-e052350b5a37"
      },
      "execution_count": 10,
      "outputs": [
        {
          "output_type": "stream",
          "name": "stdout",
          "text": [
            "Sample ratings (user 1): [5 3 4 3 3]\n"
          ]
        }
      ]
    },
    {
      "cell_type": "markdown",
      "source": [
        "# Step 2: Normalize User-Item Matrix\n",
        "Mean-center ratings to remove user bias (e.g., picky users giving lower scores), producing `R_norm` and `user_means` for similarity computation."
      ],
      "metadata": {
        "id": "IdoLOUM_nbMT"
      }
    },
    {
      "cell_type": "code",
      "source": [
        "def normalize_matrix(R):\n",
        "    user_means = np.array(R.mean(axis=1)).flatten()  # Mean rating per user\n",
        "    R_norm = R.copy()  # Preserve original R\n",
        "    row_indices, col_indices = R_norm.nonzero()\n",
        "    R_norm.data = R_norm.data - user_means[row_indices]  # Subtract mean from non-zero ratings\n",
        "    return R_norm, user_means"
      ],
      "metadata": {
        "id": "xQynSD85nhBg"
      },
      "execution_count": 11,
      "outputs": []
    },
    {
      "cell_type": "code",
      "source": [
        "R_norm, user_means = normalize_matrix(R)\n",
        "print(\"Normalized matrix non-zero count:\", R_norm.nnz)  # ~100000\n",
        "print(\"User means shape:\", user_means.shape)  # (943,)\n",
        "print(\"Sample user means:\", user_means[:5])  # First 5 users\n",
        "print(\"Sample normalized ratings (user 1):\", R_norm[0].toarray()[0, :5])  # First 5 items\n",
        "np.save('/content/drive/MyDrive/2025/HK3/LTSSUD/Data/R_norm_sparse.npy', R_norm)\n",
        "np.save('/content/drive/MyDrive/2025/HK3/LTSSUD/Data/user_means.npy', user_means)"
      ],
      "metadata": {
        "id": "z-xjdpt-nr_v",
        "colab": {
          "base_uri": "https://localhost:8080/"
        },
        "outputId": "5ac9405a-31e4-4700-9ed7-178dcaafb985"
      },
      "execution_count": 12,
      "outputs": [
        {
          "output_type": "stream",
          "name": "stdout",
          "text": [
            "Normalized matrix non-zero count: 100000\n",
            "User means shape: (943,)\n",
            "Sample user means: [0.58382878 0.13674197 0.08977408 0.06183115 0.29904875]\n",
            "Sample normalized ratings (user 1): [4.41617122 2.41617122 3.41617122 2.41617122 2.41617122]\n"
          ]
        }
      ]
    },
    {
      "cell_type": "markdown",
      "source": [
        "## Checking step"
      ],
      "metadata": {
        "id": "EFXwVNCCnwy-"
      }
    },
    {
      "cell_type": "code",
      "source": [
        "row, col = R_norm.nonzero()[0], R_norm.nonzero()[1]\n",
        "print(\"Sample check:\", R_norm[row[0], col[0]] == R[row[0], col[0]] - user_means[row[0]])  # True"
      ],
      "metadata": {
        "id": "ZvbSJA4hnyju",
        "colab": {
          "base_uri": "https://localhost:8080/"
        },
        "outputId": "e0843f14-f5c8-4751-e5db-064ccfed0827"
      },
      "execution_count": 13,
      "outputs": [
        {
          "output_type": "stream",
          "name": "stdout",
          "text": [
            "Sample check: True\n"
          ]
        }
      ]
    },
    {
      "cell_type": "markdown",
      "source": [
        "# Step 3: Implement Train/Validation Split"
      ],
      "metadata": {
        "id": "m0e6TyrxJa36"
      }
    },
    {
      "cell_type": "code",
      "source": [
        "train_ratings, val_ratings = train_test_split(ratings, test_size=0.176, random_state=42)  # 15% of 85% = ~15,000\n",
        "train_R = sp.csr_matrix((train_ratings['rating'], (train_ratings['user_id'] - 1, train_ratings['item_id'] - 1)), shape=(943, 1682))\n",
        "val_R = sp.csr_matrix((val_ratings['rating'], (val_ratings['user_id'] - 1, val_ratings['item_id'] - 1)), shape=(943, 1682))\n",
        "test_R = sp.csr_matrix((test_ratings['rating'], (test_ratings['user_id'] - 1, test_ratings['item_id'] - 1)), shape=(943, 1682))"
      ],
      "metadata": {
        "id": "AkecvDXtJbTg"
      },
      "execution_count": 14,
      "outputs": []
    },
    {
      "cell_type": "code",
      "source": [
        "np.save('/content/drive/MyDrive/2025/HK3/LTSSUD/Data/train_R_sparse.npy', train_R)\n",
        "np.save('/content/drive/MyDrive/2025/HK3/LTSSUD/Data/val_R_sparse.npy', val_R)\n",
        "np.save('/content/drive/MyDrive/2025/HK3/LTSSUD/Data/test_R_sparse.npy', test_R)\n",
        "print(\"Train matrix non-zero count:\", train_R.nnz)  # ~70,000\n",
        "print(\"Validation matrix non-zero count:\", val_R.nnz)  # ~15,000\n",
        "print(\"Test matrix non-zero count:\", test_R.nnz)  # ~15,000"
      ],
      "metadata": {
        "id": "0D9iBeJMJl24",
        "colab": {
          "base_uri": "https://localhost:8080/"
        },
        "outputId": "e63390d0-96f8-439b-b896-8def7cdf83a2"
      },
      "execution_count": 15,
      "outputs": [
        {
          "output_type": "stream",
          "name": "stdout",
          "text": [
            "Train matrix non-zero count: 82400\n",
            "Validation matrix non-zero count: 17600\n",
            "Test matrix non-zero count: 20000\n"
          ]
        }
      ]
    }
  ]
}